{
 "cells": [
  {
   "cell_type": "code",
   "execution_count": 38,
   "metadata": {},
   "outputs": [],
   "source": [
    "from datasets import load_dataset\n",
    "import numpy as np\n",
    "\n",
    "SEED = 42\n",
    "\n",
    "\n",
    "femnist = load_dataset(\"flwrlabs/femnist\")"
   ]
  },
  {
   "cell_type": "code",
   "execution_count": 42,
   "metadata": {},
   "outputs": [
    {
     "data": {
      "text/plain": [
       "DatasetInfo(description='', citation='', homepage='', license='', features={'image': Image(mode=None, decode=True, id=None), 'writer_id': Value(dtype='string', id=None), 'hsf_id': Value(dtype='int64', id=None), 'character': ClassLabel(names=['0', '1', '2', '3', '4', '5', '6', '7', '8', '9', 'A', 'B', 'C', 'D', 'E', 'F', 'G', 'H', 'I', 'J', 'K', 'L', 'M', 'N', 'O', 'P', 'Q', 'R', 'S', 'T', 'U', 'V', 'W', 'X', 'Y', 'Z', 'a', 'b', 'c', 'd', 'e', 'f', 'g', 'h', 'i', 'j', 'k', 'l', 'm', 'n', 'o', 'p', 'q', 'r', 's', 't', 'u', 'v', 'w', 'x', 'y', 'z'], id=None)}, post_processed=None, supervised_keys=None, task_templates=None, builder_name='parquet', dataset_name='femnist', config_name='default', version=0.0.0, splits={'train': SplitInfo(name='train', num_bytes=269608012, num_examples=814277, shard_lengths=None, dataset_name='femnist')}, download_checksums={'hf://datasets/flwrlabs/femnist@df739a2b09df2b5cc1ec93107659b9a9a8566487/data/train-00000-of-00001.parquet': {'num_bytes': 200734290, 'checksum': None}}, download_size=200734290, post_processing_size=None, dataset_size=269608012, size_in_bytes=470342302)"
      ]
     },
     "execution_count": 42,
     "metadata": {},
     "output_type": "execute_result"
    }
   ],
   "source": [
    "femnist[\"train\"].info"
   ]
  },
  {
   "cell_type": "code",
   "execution_count": 40,
   "metadata": {},
   "outputs": [
    {
     "data": {
      "text/plain": [
       "(28, 28)"
      ]
     },
     "execution_count": 40,
     "metadata": {},
     "output_type": "execute_result"
    }
   ],
   "source": [
    "np.array(femnist[\"train\"][0][\"image\"]).shape"
   ]
  },
  {
   "cell_type": "code",
   "execution_count": 3,
   "metadata": {},
   "outputs": [],
   "source": [
    "writer_id = femnist[\"train\"].select_columns([\"writer_id\"]).to_pandas()"
   ]
  },
  {
   "cell_type": "code",
   "execution_count": 4,
   "metadata": {},
   "outputs": [
    {
     "data": {
      "text/plain": [
       "<Axes: >"
      ]
     },
     "execution_count": 4,
     "metadata": {},
     "output_type": "execute_result"
    },
    {
     "data": {
      "image/png": "[encoded data removed]",
      "text/plain": [
       "<Figure size 640x480 with 1 Axes>"
      ]
     },
     "metadata": {},
     "output_type": "display_data"
    }
   ],
   "source": [
    "writer_id.groupby(\"writer_id\").size().hist(bins=100)"
   ]
  },
  {
   "cell_type": "code",
   "execution_count": 5,
   "metadata": {},
   "outputs": [
    {
     "data": {
      "text/plain": [
       "writer_id\n",
       "f3573_02     151\n",
       "f1255_13     355\n",
       "f3750_00     176\n",
       "f1061_01     227\n",
       "f1719_12     162\n",
       "            ... \n",
       "f1130_48     288\n",
       "f1294_12     331\n",
       "f0860_21     396\n",
       "f4010_12     162\n",
       "f3677_29     171\n",
       "Name: count, Length: 3597, dtype: int64"
      ]
     },
     "execution_count": 5,
     "metadata": {},
     "output_type": "execute_result"
    }
   ],
   "source": [
    "writer_id.value_counts(sort=False).sample(frac=1.0, random_state=SEED)"
   ]
  },
  {
   "cell_type": "code",
   "execution_count": 6,
   "metadata": {},
   "outputs": [
    {
     "data": {
      "text/plain": [
       "writer_id\n",
       "f3573_02     0.000185\n",
       "f1255_13     0.000621\n",
       "f3750_00     0.000838\n",
       "f1061_01     0.001116\n",
       "f1719_12     0.001315\n",
       "               ...   \n",
       "f1130_48     0.998698\n",
       "f1294_12     0.999105\n",
       "f0860_21     0.999591\n",
       "f4010_12     0.999790\n",
       "f3677_29     1.000000\n",
       "Name: count, Length: 3597, dtype: float64"
      ]
     },
     "execution_count": 6,
     "metadata": {},
     "output_type": "execute_result"
    }
   ],
   "source": [
    "writer_id.value_counts(sort=False).sample(\n",
    "    frac=1.0, random_state=SEED\n",
    ").cumsum() / writer_id.shape[0]"
   ]
  },
  {
   "cell_type": "code",
   "execution_count": 7,
   "metadata": {},
   "outputs": [
    {
     "data": {
      "text/plain": [
       "writer_id\n",
       "f3573_02      True\n",
       "f1255_13      True\n",
       "f3750_00      True\n",
       "f1061_01      True\n",
       "f1719_12      True\n",
       "             ...  \n",
       "f1130_48     False\n",
       "f1294_12     False\n",
       "f0860_21     False\n",
       "f4010_12     False\n",
       "f3677_29     False\n",
       "Name: count, Length: 3597, dtype: bool"
      ]
     },
     "execution_count": 7,
     "metadata": {},
     "output_type": "execute_result"
    }
   ],
   "source": [
    "selected_writers = (\n",
    "    writer_id.value_counts(sort=False).sample(frac=1.0, random_state=SEED).cumsum()\n",
    "    / writer_id.shape[0]\n",
    ") < 0.15\n",
    "selected_writers"
   ]
  },
  {
   "cell_type": "code",
   "execution_count": 8,
   "metadata": {},
   "outputs": [
    {
     "data": {
      "text/plain": [
       "528"
      ]
     },
     "execution_count": 8,
     "metadata": {},
     "output_type": "execute_result"
    }
   ],
   "source": [
    "selected_writers.sum()"
   ]
  },
  {
   "cell_type": "code",
   "execution_count": 9,
   "metadata": {},
   "outputs": [
    {
     "data": {
      "text/plain": [
       "0.14678899082568808"
      ]
     },
     "execution_count": 9,
     "metadata": {},
     "output_type": "execute_result"
    }
   ],
   "source": [
    "selected_writers.sum() / selected_writers.shape[0]"
   ]
  },
  {
   "cell_type": "code",
   "execution_count": 10,
   "metadata": {},
   "outputs": [
    {
     "data": {
      "text/plain": [
       "121948"
      ]
     },
     "execution_count": 10,
     "metadata": {},
     "output_type": "execute_result"
    }
   ],
   "source": [
    "# num samples taken\n",
    "n_samples_taken = (\n",
    "    writer_id.value_counts(sort=False)\n",
    "    .sample(frac=1.0, random_state=SEED)[selected_writers.values]\n",
    "    .sum()\n",
    ")\n",
    "n_samples_taken"
   ]
  },
  {
   "cell_type": "code",
   "execution_count": 11,
   "metadata": {},
   "outputs": [
    {
     "data": {
      "text/plain": [
       "0.14976230447378472"
      ]
     },
     "execution_count": 11,
     "metadata": {},
     "output_type": "execute_result"
    }
   ],
   "source": [
    "n_samples_taken / writer_id.shape[0]"
   ]
  },
  {
   "cell_type": "code",
   "execution_count": 12,
   "metadata": {},
   "outputs": [
    {
     "data": {
      "text/plain": [
       "814277"
      ]
     },
     "execution_count": 12,
     "metadata": {},
     "output_type": "execute_result"
    }
   ],
   "source": [
    "writer_id.shape[0]"
   ]
  },
  {
   "cell_type": "code",
   "execution_count": 13,
   "metadata": {},
   "outputs": [],
   "source": [
    "selected_writer_ids_for_test = (\n",
    "    writer_id.value_counts(sort=False)\n",
    "    .sample(frac=1.0, random_state=SEED)[selected_writers.values]\n",
    "    .reset_index()[\"writer_id\"]\n",
    ")\n"
   ]
  },
  {
   "cell_type": "code",
   "execution_count": 14,
   "metadata": {},
   "outputs": [
    {
     "data": {
      "text/plain": [
       "0      f3573_02\n",
       "1      f1255_13\n",
       "2      f3750_00\n",
       "3      f1061_01\n",
       "4      f1719_12\n",
       "         ...   \n",
       "523    f2068_36\n",
       "524    f0283_31\n",
       "525    f0274_49\n",
       "526    f2183_59\n",
       "527    f2164_60\n",
       "Name: writer_id, Length: 528, dtype: object"
      ]
     },
     "execution_count": 14,
     "metadata": {},
     "output_type": "execute_result"
    }
   ],
   "source": [
    "selected_writer_ids_for_test"
   ]
  },
  {
   "cell_type": "code",
   "execution_count": 15,
   "metadata": {},
   "outputs": [],
   "source": [
    "selected_writer_ids_for_test.to_csv('./../../configs/test_writer_ids_femnist.csv', index=False)"
   ]
  },
  {
   "cell_type": "code",
   "execution_count": 26,
   "metadata": {},
   "outputs": [],
   "source": [
    "dataset = femnist\n",
    "writer_id = dataset[\"train\"].select_columns([\"writer_id\"]).to_pandas()\n",
    "\n",
    "test_rows = writer_id[\"writer_id\"].isin(selected_writer_ids_for_test)\n",
    "test_rows_ids = writer_id[test_rows].index\n",
    "train_rows_ids = writer_id[~test_rows].index"
   ]
  },
  {
   "cell_type": "code",
   "execution_count": 27,
   "metadata": {},
   "outputs": [],
   "source": [
    "dataset_test = dataset[\"train\"].select(test_rows_ids)\n",
    "dataset_train = dataset[\"train\"].select(train_rows_ids)"
   ]
  },
  {
   "cell_type": "code",
   "execution_count": 34,
   "metadata": {},
   "outputs": [],
   "source": [
    "from datasets import DatasetDict\n",
    "import pandas as pd\n",
    "\n",
    "def resplit_femnist_to_train_test(dataset):\n",
    "    selected_writer_ids_for_test = pd.read_csv('./../../configs/test_writer_ids_femnist.csv')['writer_id']\n",
    "    writer_id = dataset[\"train\"].select_columns([\"writer_id\"]).to_pandas()\n",
    "\n",
    "    test_rows = writer_id[\"writer_id\"].isin(selected_writer_ids_for_test)\n",
    "    test_rows_ids = writer_id[test_rows].index\n",
    "    train_rows_ids = writer_id[~test_rows].index\n",
    "    dataset_test = dataset[\"train\"].select(test_rows_ids)\n",
    "    dataset_train = dataset[\"train\"].select(train_rows_ids)\n",
    "    return DatasetDict({\"train\": dataset_train, \"test\": dataset_test})"
   ]
  },
  {
   "cell_type": "code",
   "execution_count": 35,
   "metadata": {},
   "outputs": [
    {
     "data": {
      "text/plain": [
       "3069"
      ]
     },
     "execution_count": 35,
     "metadata": {},
     "output_type": "execute_result"
    }
   ],
   "source": [
    "len(resplit_femnist_to_train_test(femnist)[\"train\"].unique(\"writer_id\"))"
   ]
  },
  {
   "cell_type": "code",
   "execution_count": 36,
   "metadata": {},
   "outputs": [
    {
     "data": {
      "text/plain": [
       "528"
      ]
     },
     "execution_count": 36,
     "metadata": {},
     "output_type": "execute_result"
    }
   ],
   "source": [
    "len(resplit_femnist_to_train_test(femnist)[\"test\"].unique(\"writer_id\"))"
   ]
  },
  {
   "cell_type": "code",
   "execution_count": null,
   "metadata": {},
   "outputs": [],
   "source": []
  }
 ],
 "metadata": {
  "kernelspec": {
   "display_name": "fl-heterogeneity",
   "language": "python",
   "name": "python3"
  },
  "language_info": {
   "codemirror_mode": {
    "name": "ipython",
    "version": 3
   },
   "file_extension": ".py",
   "mimetype": "text/x-python",
   "name": "python",
   "nbconvert_exporter": "python",
   "pygments_lexer": "ipython3",
   "version": "3.10.9"
  }
 },
 "nbformat": 4,
 "nbformat_minor": 2
}
